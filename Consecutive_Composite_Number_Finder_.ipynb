{
  "nbformat": 4,
  "nbformat_minor": 0,
  "metadata": {
    "colab": {
      "name": "Consecutive Composite Number Finder .ipynb",
      "provenance": [],
      "authorship_tag": "ABX9TyNSaW9v1YOTtnK/ADUS0Qau",
      "include_colab_link": true
    },
    "kernelspec": {
      "name": "python3",
      "display_name": "Python 3"
    },
    "language_info": {
      "name": "python"
    }
  },
  "cells": [
    {
      "cell_type": "markdown",
      "metadata": {
        "id": "view-in-github",
        "colab_type": "text"
      },
      "source": [
        "<a href=\"https://colab.research.google.com/github/anupomds/Consecutive-Composite-Number-Finder/blob/main/Consecutive_Composite_Number_Finder_.ipynb\" target=\"_parent\"><img src=\"https://colab.research.google.com/assets/colab-badge.svg\" alt=\"Open In Colab\"/></a>"
      ]
    },
    {
      "cell_type": "code",
      "source": [
        "import math\n",
        "def isPrime(N): \n",
        "    for number in range(2, math.ceil(N**.5)):    #For N> 9 , won't work properly for values under 9\n",
        "        if N % number == 0:\n",
        "            return False\n",
        "    return True"
      ],
      "metadata": {
        "id": "Pj3w-P6vxC1b"
      },
      "execution_count": null,
      "outputs": []
    },
    {
      "cell_type": "code",
      "source": [
        "con_num = int(input('intended number of consecutive composite numbers- '))\n",
        "x= int(input(\"starting range (larger than 9)- \"))\n",
        "y= int(input(\"ending range- \"))\n",
        "set_num = int(input(\"number of sets you want to find- \"))\n",
        "\n",
        "counter = 0\n",
        "set_count = 0\n",
        "for i in range (x, y):\n",
        "  result = isPrime(i)\n",
        "  if result == False:\n",
        "    counter= counter +1\n",
        "  elif result == True:\n",
        "    counter= 0\n",
        "  # print (i, result)\n",
        "  # print(\"counter \", counter)\n",
        " \n",
        "  if counter == con_num:\n",
        "    # print (i, counter)\n",
        "    print(\"First Number \", i-con_num+1)\n",
        "    print(list(range(i-counter+1, i+1)))\n",
        "    set_count= set_count +1 \n",
        "  if set_count == set_num:\n",
        "    break \n",
        "if set_count== 0:\n",
        "  print(con_num,\"consecutive composite numbers is not available in this range. Thank you!\")\n",
        "elif set_count != set_num:\n",
        "  print(\"There is only \", set_count, \"sets are available in this range\")"
      ],
      "metadata": {
        "colab": {
          "base_uri": "https://localhost:8080/"
        },
        "id": "ZPSu00gcxDjq",
        "outputId": "3511c595-9237-437c-f33a-eae9af41b1d8"
      },
      "execution_count": null,
      "outputs": [
        {
          "output_type": "stream",
          "name": "stdout",
          "text": [
            "intended number of consecutive composite numbers- 15\n",
            "starting range (larger than 9)- 50\n",
            "ending range- 2022\n",
            "number of sets you want to find- 3\n",
            "First Number  888\n",
            "[888, 889, 890, 891, 892, 893, 894, 895, 896, 897, 898, 899, 900, 901, 902]\n",
            "First Number  1070\n",
            "[1070, 1071, 1072, 1073, 1074, 1075, 1076, 1077, 1078, 1079, 1080, 1081, 1082, 1083, 1084]\n",
            "First Number  1130\n",
            "[1130, 1131, 1132, 1133, 1134, 1135, 1136, 1137, 1138, 1139, 1140, 1141, 1142, 1143, 1144]\n"
          ]
        }
      ]
    }
  ]
}