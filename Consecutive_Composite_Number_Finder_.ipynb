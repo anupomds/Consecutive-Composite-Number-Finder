{
  "nbformat": 4,
  "nbformat_minor": 0,
  "metadata": {
    "colab": {
      "name": "Consecutive Composite Number Finder .ipynb",
      "provenance": [],
      "authorship_tag": "ABX9TyMqv82vIBbXaffD22wWA0WQ",
      "include_colab_link": true
    },
    "kernelspec": {
      "name": "python3",
      "display_name": "Python 3"
    },
    "language_info": {
      "name": "python"
    }
  },
  "cells": [
    {
      "cell_type": "markdown",
      "metadata": {
        "id": "view-in-github",
        "colab_type": "text"
      },
      "source": [
        "<a href=\"https://colab.research.google.com/github/anupomds/Consecutive-Composite-Number-Finder/blob/main/Consecutive_Composite_Number_Finder_.ipynb\" target=\"_parent\"><img src=\"https://colab.research.google.com/assets/colab-badge.svg\" alt=\"Open In Colab\"/></a>"
      ]
    },
    {
      "cell_type": "code",
      "source": [
        "import math\n",
        "def isPrime(N): \n",
        "    for number in range(2, math.ceil(N**.5)):    #For N> 9 , won't work properly for values under 9\n",
        "        if N % number == 0:\n",
        "            return False\n",
        "    return True"
      ],
      "metadata": {
        "id": "Pj3w-P6vxC1b"
      },
      "execution_count": 65,
      "outputs": []
    },
    {
      "cell_type": "code",
      "source": [
        "con_num = int(input('intended number of consecutive composite numbers- '))\n",
        "x= int(input(\"starting range (larger than 9)- \"))\n",
        "y= int(input(\"ending range- \"))\n",
        "set_num = int(input(\"number of sets you want to find- \"))\n",
        "\n",
        "counter = 0\n",
        "set_count = 0\n",
        "for i in range (x, y):\n",
        "  result = isPrime(i)\n",
        "  if result == False:\n",
        "    counter= counter +1\n",
        "  else:\n",
        "    counter= 0\n",
        "  # print (i, result)\n",
        "  # print(\"counter \", counter)\n",
        " \n",
        "  if counter == con_num:\n",
        "    # print (i, counter)\n",
        "    print(\"First Number \", i-con_num)\n",
        "    print(list(range(i-counter, i)))\n",
        "    set_count= set_count +1 \n",
        "  if set_count == set_num:\n",
        "    break \n",
        "if set_count== 0:\n",
        "  print(con_num,\"consecutive composite numbers is not available in this range. Thank you!\")\n",
        "elif set_count != set_num:\n",
        "  print(\"There is only \", set_count, \"sets are available in this range\")"
      ],
      "metadata": {
        "colab": {
          "base_uri": "https://localhost:8080/"
        },
        "id": "ZPSu00gcxDjq",
        "outputId": "0979cb6c-cadf-483b-d2c1-6fc75ac6d103"
      },
      "execution_count": 71,
      "outputs": [
        {
          "output_type": "stream",
          "name": "stdout",
          "text": [
            "intended number of consecutive composite numbers- 20\n",
            "starting range (larger than 9)- 10\n",
            "ending range- 10000\n",
            "number of sets you want to find- 5\n",
            "First Number  1129\n",
            "[1129, 1130, 1131, 1132, 1133, 1134, 1135, 1136, 1137, 1138, 1139, 1140, 1141, 1142, 1143, 1144, 1145, 1146, 1147, 1148]\n",
            "First Number  1327\n",
            "[1327, 1328, 1329, 1330, 1331, 1332, 1333, 1334, 1335, 1336, 1337, 1338, 1339, 1340, 1341, 1342, 1343, 1344, 1345, 1346]\n",
            "First Number  1951\n",
            "[1951, 1952, 1953, 1954, 1955, 1956, 1957, 1958, 1959, 1960, 1961, 1962, 1963, 1964, 1965, 1966, 1967, 1968, 1969, 1970]\n",
            "First Number  2179\n",
            "[2179, 2180, 2181, 2182, 2183, 2184, 2185, 2186, 2187, 2188, 2189, 2190, 2191, 2192, 2193, 2194, 2195, 2196, 2197, 2198]\n",
            "First Number  2311\n",
            "[2311, 2312, 2313, 2314, 2315, 2316, 2317, 2318, 2319, 2320, 2321, 2322, 2323, 2324, 2325, 2326, 2327, 2328, 2329, 2330]\n"
          ]
        }
      ]
    },
    {
      "cell_type": "code",
      "source": [
        ""
      ],
      "metadata": {
        "id": "_AAEYFLAyBKx"
      },
      "execution_count": null,
      "outputs": []
    }
  ]
}